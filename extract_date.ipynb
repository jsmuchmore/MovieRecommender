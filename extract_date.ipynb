{
 "cells": [
  {
   "cell_type": "markdown",
   "metadata": {},
   "source": [
    "## Date Extraction\n",
    "\n",
    "This was part of the data cleaning process that extracted the date from a single column to year/month/day columns.\n"
   ]
  },
  {
   "cell_type": "code",
   "execution_count": 1,
   "metadata": {},
   "outputs": [],
   "source": [
    "import numpy as np\n",
    "import pandas as pd"
   ]
  },
  {
   "cell_type": "code",
   "execution_count": 2,
   "metadata": {},
   "outputs": [],
   "source": [
    "# load data\n",
    "df = pd.read_csv(\"movies.gz\")"
   ]
  },
  {
   "cell_type": "code",
   "execution_count": 7,
   "metadata": {},
   "outputs": [
    {
     "data": {
      "text/plain": [
       "0    1995-10-30\n",
       "1    1995-12-15\n",
       "2    1995-12-22\n",
       "3    1995-12-22\n",
       "4    1995-02-10\n",
       "Name: release_date, dtype: object"
      ]
     },
     "execution_count": 7,
     "metadata": {},
     "output_type": "execute_result"
    }
   ],
   "source": [
    "# check format of date column\n",
    "df[\"release_date\"].head()"
   ]
  },
  {
   "cell_type": "code",
   "execution_count": 3,
   "metadata": {},
   "outputs": [],
   "source": [
    "# split the date at appropriate character, and append numbers to appropriate lists\n",
    "split = []\n",
    "years = []\n",
    "months = []\n",
    "days = []\n",
    "\n",
    "for i in range(len(df[\"release_date\"])):\n",
    "    try:\n",
    "        split.append(df[\"release_date\"][i].split(\"-\"))\n",
    "        years.append(split[i][0])\n",
    "        months.append(split[i][1])\n",
    "        days.append(split[i][2])\n",
    "        \n",
    "    except AttributeError:\n",
    "        split.append(np.nan)\n",
    "        years.append(np.nan)\n",
    "        months.append(np.nan)\n",
    "        days.append(np.nan)                   "
   ]
  },
  {
   "cell_type": "code",
   "execution_count": 65,
   "metadata": {},
   "outputs": [
    {
     "name": "stdout",
     "output_type": "stream",
     "text": [
      "46624 46624 46624 46624\n"
     ]
    }
   ],
   "source": [
    "# verify that the lists all correspond in length\n",
    "print(len(split), len(years), len(months), len(days))"
   ]
  },
  {
   "cell_type": "code",
   "execution_count": 5,
   "metadata": {},
   "outputs": [
    {
     "name": "stdout",
     "output_type": "stream",
     "text": [
      "['1995', '12', '15'] 1995 12 15\n"
     ]
    }
   ],
   "source": [
    "# verify everything is in the correct place\n",
    "print(split[1], years[1], months[1], days[1])"
   ]
  },
  {
   "cell_type": "code",
   "execution_count": 68,
   "metadata": {},
   "outputs": [],
   "source": [
    "# convert to series and add back to dataframe\n",
    "se_year = pd.Series(years)\n",
    "se_month = pd.Series(months)\n",
    "se_day = pd.Series(days)\n",
    "\n",
    "df[\"release_year\"] = se_year.values\n",
    "df[\"release_month\"] = se_month.values\n",
    "df[\"release_day\"] = se_day.values"
   ]
  },
  {
   "cell_type": "code",
   "execution_count": null,
   "metadata": {},
   "outputs": [],
   "source": [
    "# delete single date column and save new dataframe\n",
    "del df[\"release_date\"]\n",
    "df.to_csv(\"movie_metadata_flatdate.csv\")"
   ]
  }
 ],
 "metadata": {
  "kernelspec": {
   "display_name": "Python [default]",
   "language": "python",
   "name": "python3"
  },
  "language_info": {
   "codemirror_mode": {
    "name": "ipython",
    "version": 3
   },
   "file_extension": ".py",
   "mimetype": "text/x-python",
   "name": "python",
   "nbconvert_exporter": "python",
   "pygments_lexer": "ipython3",
   "version": "3.6.4"
  }
 },
 "nbformat": 4,
 "nbformat_minor": 2
}
