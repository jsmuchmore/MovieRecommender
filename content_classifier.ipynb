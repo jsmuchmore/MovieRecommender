{
 "cells": [
  {
   "cell_type": "code",
   "execution_count": 31,
   "metadata": {},
   "outputs": [],
   "source": [
    "import pandas as pd\n",
    "import pprint as pp\n",
    "from collections import Counter\n",
    "from sklearn.preprocessing import StandardScaler\n",
    "from sklearn.cluster import KMeans\n",
    "import numpy as np\n",
    "import matplotlib.pyplot as plt\n",
    "% matplotlib inline"
   ]
  },
  {
   "cell_type": "markdown",
   "metadata": {},
   "source": [
    "## 1. Reducing Features"
   ]
  },
  {
   "cell_type": "code",
   "execution_count": 22,
   "metadata": {},
   "outputs": [
    {
     "data": {
      "text/plain": [
       "(44600, 1153)"
      ]
     },
     "execution_count": 22,
     "metadata": {},
     "output_type": "execute_result"
    }
   ],
   "source": [
    "# read in cleaned data\n",
    "\n",
    "df = pd.read_csv(\"Data/data_cleaning_5.csv.gz\")\n",
    "df.shape"
   ]
  },
  {
   "cell_type": "code",
   "execution_count": 23,
   "metadata": {},
   "outputs": [
    {
     "data": {
      "text/plain": [
       "(44600, 242)"
      ]
     },
     "execution_count": 23,
     "metadata": {},
     "output_type": "execute_result"
    }
   ],
   "source": [
    "# drop columns causing undistributed classification\n",
    "\n",
    "col_queried = []\n",
    "for col in df.columns.tolist():\n",
    "    if 'overview' not in col:\n",
    "        if 'original_lang' not in col: \n",
    "            if 'director' not in col:\n",
    "                col_queried.append(col)\n",
    "                \n",
    "df = df[col_queried]\n",
    "df.shape"
   ]
  },
  {
   "cell_type": "code",
   "execution_count": 24,
   "metadata": {},
   "outputs": [],
   "source": [
    "# drop non-numeric and additional unnecesarry columns\n",
    "\n",
    "df_numeric = df.drop(columns=['imdb_id', 'original_title', 'title', 'id', 'popularity', 'weighted_rating', 'vote_count', 'vote_average' ])"
   ]
  },
  {
   "cell_type": "code",
   "execution_count": 25,
   "metadata": {},
   "outputs": [
    {
     "data": {
      "text/html": [
       "<div>\n",
       "<style scoped>\n",
       "    .dataframe tbody tr th:only-of-type {\n",
       "        vertical-align: middle;\n",
       "    }\n",
       "\n",
       "    .dataframe tbody tr th {\n",
       "        vertical-align: top;\n",
       "    }\n",
       "\n",
       "    .dataframe thead th {\n",
       "        text-align: right;\n",
       "    }\n",
       "</style>\n",
       "<table border=\"1\" class=\"dataframe\">\n",
       "  <thead>\n",
       "    <tr style=\"text-align: right;\">\n",
       "      <th></th>\n",
       "      <th>adult</th>\n",
       "      <th>belongs_to_collection</th>\n",
       "      <th>budget</th>\n",
       "      <th>homepage</th>\n",
       "      <th>revenue</th>\n",
       "      <th>runtime</th>\n",
       "      <th>spoken_languages</th>\n",
       "      <th>video</th>\n",
       "      <th>cast_size</th>\n",
       "      <th>crew_size</th>\n",
       "      <th>...</th>\n",
       "      <th>production_company_Shaw Brothers</th>\n",
       "      <th>production_company_Film i Väst</th>\n",
       "      <th>production_company_Nordisk Film</th>\n",
       "      <th>production_company_Film4</th>\n",
       "      <th>production_company_Lions Gate Films</th>\n",
       "      <th>production_company_TLA Releasing</th>\n",
       "      <th>production_company_Castle Rock Entertainment</th>\n",
       "      <th>release_year</th>\n",
       "      <th>release_month</th>\n",
       "      <th>release_day</th>\n",
       "    </tr>\n",
       "  </thead>\n",
       "  <tbody>\n",
       "    <tr>\n",
       "      <th>0</th>\n",
       "      <td>-0.013394</td>\n",
       "      <td>2.999626</td>\n",
       "      <td>1.186774</td>\n",
       "      <td>2.192554</td>\n",
       "      <td>5.549635</td>\n",
       "      <td>-0.359011</td>\n",
       "      <td>-0.239708</td>\n",
       "      <td>-0.045216</td>\n",
       "      <td>0.041468</td>\n",
       "      <td>6.016529</td>\n",
       "      <td>...</td>\n",
       "      <td>0.0</td>\n",
       "      <td>0.0</td>\n",
       "      <td>0.0</td>\n",
       "      <td>0.0</td>\n",
       "      <td>0.0</td>\n",
       "      <td>0.0</td>\n",
       "      <td>0.0</td>\n",
       "      <td>0.131842</td>\n",
       "      <td>0.974522</td>\n",
       "      <td>1.700517</td>\n",
       "    </tr>\n",
       "    <tr>\n",
       "      <th>1</th>\n",
       "      <td>-0.013394</td>\n",
       "      <td>-0.333375</td>\n",
       "      <td>3.340612</td>\n",
       "      <td>-0.456089</td>\n",
       "      <td>3.783812</td>\n",
       "      <td>0.247075</td>\n",
       "      <td>1.090346</td>\n",
       "      <td>-0.045216</td>\n",
       "      <td>1.113478</td>\n",
       "      <td>0.356903</td>\n",
       "      <td>...</td>\n",
       "      <td>0.0</td>\n",
       "      <td>0.0</td>\n",
       "      <td>0.0</td>\n",
       "      <td>0.0</td>\n",
       "      <td>0.0</td>\n",
       "      <td>0.0</td>\n",
       "      <td>0.0</td>\n",
       "      <td>0.131842</td>\n",
       "      <td>1.526866</td>\n",
       "      <td>0.082170</td>\n",
       "    </tr>\n",
       "    <tr>\n",
       "      <th>2</th>\n",
       "      <td>-0.013394</td>\n",
       "      <td>2.999626</td>\n",
       "      <td>-0.167068</td>\n",
       "      <td>-0.456089</td>\n",
       "      <td>-0.137637</td>\n",
       "      <td>0.168020</td>\n",
       "      <td>-0.239708</td>\n",
       "      <td>-0.045216</td>\n",
       "      <td>-0.453306</td>\n",
       "      <td>-0.397714</td>\n",
       "      <td>...</td>\n",
       "      <td>0.0</td>\n",
       "      <td>0.0</td>\n",
       "      <td>0.0</td>\n",
       "      <td>0.0</td>\n",
       "      <td>0.0</td>\n",
       "      <td>0.0</td>\n",
       "      <td>0.0</td>\n",
       "      <td>0.131842</td>\n",
       "      <td>1.526866</td>\n",
       "      <td>0.837399</td>\n",
       "    </tr>\n",
       "    <tr>\n",
       "      <th>3</th>\n",
       "      <td>-0.013394</td>\n",
       "      <td>-0.333375</td>\n",
       "      <td>0.325238</td>\n",
       "      <td>-0.456089</td>\n",
       "      <td>0.892582</td>\n",
       "      <td>0.853160</td>\n",
       "      <td>-0.239708</td>\n",
       "      <td>-0.045216</td>\n",
       "      <td>-0.205919</td>\n",
       "      <td>-0.020405</td>\n",
       "      <td>...</td>\n",
       "      <td>0.0</td>\n",
       "      <td>0.0</td>\n",
       "      <td>0.0</td>\n",
       "      <td>0.0</td>\n",
       "      <td>0.0</td>\n",
       "      <td>0.0</td>\n",
       "      <td>0.0</td>\n",
       "      <td>0.131842</td>\n",
       "      <td>1.526866</td>\n",
       "      <td>0.837399</td>\n",
       "    </tr>\n",
       "    <tr>\n",
       "      <th>4</th>\n",
       "      <td>-0.013394</td>\n",
       "      <td>2.999626</td>\n",
       "      <td>-0.167068</td>\n",
       "      <td>-0.456089</td>\n",
       "      <td>0.814887</td>\n",
       "      <td>0.299778</td>\n",
       "      <td>-0.239708</td>\n",
       "      <td>-0.045216</td>\n",
       "      <td>-0.040994</td>\n",
       "      <td>-0.209059</td>\n",
       "      <td>...</td>\n",
       "      <td>0.0</td>\n",
       "      <td>0.0</td>\n",
       "      <td>0.0</td>\n",
       "      <td>0.0</td>\n",
       "      <td>0.0</td>\n",
       "      <td>0.0</td>\n",
       "      <td>0.0</td>\n",
       "      <td>0.131842</td>\n",
       "      <td>-1.234854</td>\n",
       "      <td>-0.457279</td>\n",
       "    </tr>\n",
       "  </tbody>\n",
       "</table>\n",
       "<p>5 rows × 234 columns</p>\n",
       "</div>"
      ],
      "text/plain": [
       "      adult  belongs_to_collection    budget  homepage   revenue   runtime  \\\n",
       "0 -0.013394               2.999626  1.186774  2.192554  5.549635 -0.359011   \n",
       "1 -0.013394              -0.333375  3.340612 -0.456089  3.783812  0.247075   \n",
       "2 -0.013394               2.999626 -0.167068 -0.456089 -0.137637  0.168020   \n",
       "3 -0.013394              -0.333375  0.325238 -0.456089  0.892582  0.853160   \n",
       "4 -0.013394               2.999626 -0.167068 -0.456089  0.814887  0.299778   \n",
       "\n",
       "   spoken_languages     video  cast_size  crew_size     ...       \\\n",
       "0         -0.239708 -0.045216   0.041468   6.016529     ...        \n",
       "1          1.090346 -0.045216   1.113478   0.356903     ...        \n",
       "2         -0.239708 -0.045216  -0.453306  -0.397714     ...        \n",
       "3         -0.239708 -0.045216  -0.205919  -0.020405     ...        \n",
       "4         -0.239708 -0.045216  -0.040994  -0.209059     ...        \n",
       "\n",
       "   production_company_Shaw Brothers  production_company_Film i Väst  \\\n",
       "0                               0.0                             0.0   \n",
       "1                               0.0                             0.0   \n",
       "2                               0.0                             0.0   \n",
       "3                               0.0                             0.0   \n",
       "4                               0.0                             0.0   \n",
       "\n",
       "   production_company_Nordisk Film  production_company_Film4  \\\n",
       "0                              0.0                       0.0   \n",
       "1                              0.0                       0.0   \n",
       "2                              0.0                       0.0   \n",
       "3                              0.0                       0.0   \n",
       "4                              0.0                       0.0   \n",
       "\n",
       "   production_company_Lions Gate Films  production_company_TLA Releasing  \\\n",
       "0                                  0.0                               0.0   \n",
       "1                                  0.0                               0.0   \n",
       "2                                  0.0                               0.0   \n",
       "3                                  0.0                               0.0   \n",
       "4                                  0.0                               0.0   \n",
       "\n",
       "   production_company_Castle Rock Entertainment  release_year  release_month  \\\n",
       "0                                           0.0      0.131842       0.974522   \n",
       "1                                           0.0      0.131842       1.526866   \n",
       "2                                           0.0      0.131842       1.526866   \n",
       "3                                           0.0      0.131842       1.526866   \n",
       "4                                           0.0      0.131842      -1.234854   \n",
       "\n",
       "   release_day  \n",
       "0     1.700517  \n",
       "1     0.082170  \n",
       "2     0.837399  \n",
       "3     0.837399  \n",
       "4    -0.457279  \n",
       "\n",
       "[5 rows x 234 columns]"
      ]
     },
     "execution_count": 25,
     "metadata": {},
     "output_type": "execute_result"
    }
   ],
   "source": [
    "# scale the data\n",
    "\n",
    "df_scaled = df_numeric.copy()\n",
    "scaler = StandardScaler()\n",
    "df_scaled[df_scaled.columns.tolist()] = scaler.fit_transform(df_numeric)\n",
    "df_scaled.head()"
   ]
  },
  {
   "cell_type": "markdown",
   "metadata": {},
   "source": [
    "## 2. Kmeans"
   ]
  },
  {
   "cell_type": "code",
   "execution_count": 29,
   "metadata": {},
   "outputs": [
    {
     "name": "stdout",
     "output_type": "stream",
     "text": [
      "Applying 1 clusters...\n",
      "Applying 2 clusters...\n",
      "Applying 3 clusters...\n",
      "Applying 4 clusters...\n",
      "Applying 5 clusters...\n",
      "Applying 6 clusters...\n",
      "Applying 7 clusters...\n",
      "Applying 8 clusters...\n",
      "Applying 9 clusters...\n",
      "Applying 10 clusters...\n",
      "Applying 11 clusters...\n",
      "Applying 12 clusters...\n",
      "Applying 13 clusters...\n",
      "Applying 14 clusters...\n",
      "Applying 15 clusters...\n",
      "Applying 16 clusters...\n",
      "Applying 17 clusters...\n",
      "Applying 18 clusters...\n",
      "Applying 19 clusters...\n",
      "Applying 20 clusters...\n",
      "Applying 21 clusters...\n",
      "Applying 22 clusters...\n",
      "Applying 23 clusters...\n",
      "Applying 24 clusters...\n",
      "Applying 25 clusters...\n",
      "Applying 26 clusters...\n",
      "Applying 27 clusters...\n",
      "Applying 28 clusters...\n",
      "Applying 29 clusters...\n",
      "Completed.\n"
     ]
    }
   ],
   "source": [
    "# Loop to save models for differing number of clusters\n",
    "\n",
    "num_clusters = range(1, 30)\n",
    "scores = []\n",
    "models = []\n",
    "\n",
    "for k in num_clusters:\n",
    "    print(f\"Applying {k} clusters...\")\n",
    "          \n",
    "    kmeans =KMeans(n_clusters=k, random_state=64)\n",
    "    model = kmeans.fit(df_scaled)\n",
    "    models.append(model)\n",
    "          \n",
    "    score = np.abs(model.score(df_scaled))\n",
    "    scores.append(score)\n",
    "\n",
    "print(\"Completed.\")"
   ]
  },
  {
   "cell_type": "code",
   "execution_count": 32,
   "metadata": {},
   "outputs": [
    {
     "data": {
      "image/png": "[encoded data removed]",
      "text/plain": [
       "<matplotlib.figure.Figure at 0x2960fb1bcf8>"
      ]
     },
     "metadata": {},
     "output_type": "display_data"
    }
   ],
   "source": [
    "# plot to show average size of clusters (chose num_clusters value where there is \"kink\")\n",
    "\n",
    "plt.figure(figsize=(16,6))\n",
    "plt.plot(num_clusters, scores)\n",
    "plt.xlabel('Number of Clusters')\n",
    "plt.ylabel('Average distance to cluster center')\n",
    "plt.title('Elbow Curve')\n",
    "plt.xticks(range(1, 30, 2))\n",
    "plt.grid(linestyle=':', linewidth=0.5)"
   ]
  },
  {
   "cell_type": "code",
   "execution_count": 33,
   "metadata": {},
   "outputs": [
    {
     "data": {
      "text/plain": [
       "Text(0.5,1,'Change of average distance to cluster center from n clusters to n+1 clusters')"
      ]
     },
     "execution_count": 33,
     "metadata": {},
     "output_type": "execute_result"
    },
    {
     "data": {
      "image/png": "[encoded data removed]",
      "text/plain": [
       "<matplotlib.figure.Figure at 0x296487749e8>"
      ]
     },
     "metadata": {},
     "output_type": "display_data"
    }
   ],
   "source": [
    "# plot to take a closer look at the slope change of pervious chart\n",
    "\n",
    "plt.figure(figsize=(16,6))\n",
    "yy = np.diff(scores) / scores[:-1]\n",
    "plt.plot(range(1, len(yy)+1), yy)\n",
    "plt.xticks(range(1, 30, 2))\n",
    "plt.grid(linestyle=':', linewidth=0.5)\n",
    "plt.xlabel('Number of Clusters')\n",
    "plt.ylabel('Slope')\n",
    "plt.title(\"Change of average distance to cluster center from n clusters to n+1 clusters\")"
   ]
  },
  {
   "cell_type": "code",
   "execution_count": 34,
   "metadata": {},
   "outputs": [],
   "source": [
    "# retrain KMeans algorithm with selected number of clusters\n",
    "\n",
    "kmeans = KMeans(n_clusters=20)\n",
    "kmeans = kmeans.fit(df_scaled)"
   ]
  },
  {
   "cell_type": "code",
   "execution_count": 36,
   "metadata": {},
   "outputs": [
    {
     "name": "stdout",
     "output_type": "stream",
     "text": [
      "Counter({4: 5389,\n",
      "         3: 4269,\n",
      "         0: 4091,\n",
      "         15: 3948,\n",
      "         2: 3740,\n",
      "         14: 3489,\n",
      "         11: 3315,\n",
      "         1: 3261,\n",
      "         6: 3215,\n",
      "         12: 3120,\n",
      "         18: 1932,\n",
      "         8: 1880,\n",
      "         19: 858,\n",
      "         16: 833,\n",
      "         13: 582,\n",
      "         10: 287,\n",
      "         17: 147,\n",
      "         5: 145,\n",
      "         9: 91,\n",
      "         7: 8})\n"
     ]
    }
   ],
   "source": [
    "# loops to classify every movie and show the count of each classification to see a reasonable distribution\n",
    "\n",
    "movie_class = []\n",
    "for movie in df_scaled.index.values:\n",
    "    movie_class.append(kmeans.predict(df_scaled.loc[movie].values.reshape(1, -1)))\n",
    "    \n",
    "movie_class_ext = []\n",
    "for movie in movie_class:\n",
    "    movie_class_ext.append([movie][0][0])\n",
    "    \n",
    "\n",
    "pp.pprint(Counter(movie_class_ext))"
   ]
  },
  {
   "cell_type": "markdown",
   "metadata": {},
   "source": [
    "## 3. Save movie classifications"
   ]
  },
  {
   "cell_type": "code",
   "execution_count": 37,
   "metadata": {},
   "outputs": [],
   "source": [
    "# create csv to save each movie classification with some additional data for web use later\n",
    "\n",
    "lookup_df = pd.DataFrame(\n",
    "    {'movieId': df[\"id\"],\n",
    "     'class': movie_class_ext,\n",
    "     'rating': df[\"weighted_rating\"] })"
   ]
  },
  {
   "cell_type": "code",
   "execution_count": 74,
   "metadata": {},
   "outputs": [],
   "source": [
    "df_raw = pd.read_csv(\"Data/movies_Merged_Alldata.csv.gz\")"
   ]
  },
  {
   "cell_type": "code",
   "execution_count": 75,
   "metadata": {},
   "outputs": [],
   "source": [
    "df_joined = lookup_df.merge(df_raw, how=\"inner\", left_on=\"movieId\", right_on=\"id\")\n",
    "\n",
    "base_url = \"http://image.tmdb.org/t/p/w185_and_h278_bestv2\"\n",
    "df_joined['poster_path_full'] = base_url + df_joined['poster_path']\n",
    "df_final = df_joined[['class','movieId','rating','title', 'original_language', 'poster_path_full', 'release_date']]\n"
   ]
  },
  {
   "cell_type": "code",
   "execution_count": 76,
   "metadata": {},
   "outputs": [
    {
     "data": {
      "text/html": [
       "<div>\n",
       "<style scoped>\n",
       "    .dataframe tbody tr th:only-of-type {\n",
       "        vertical-align: middle;\n",
       "    }\n",
       "\n",
       "    .dataframe tbody tr th {\n",
       "        vertical-align: top;\n",
       "    }\n",
       "\n",
       "    .dataframe thead th {\n",
       "        text-align: right;\n",
       "    }\n",
       "</style>\n",
       "<table border=\"1\" class=\"dataframe\">\n",
       "  <thead>\n",
       "    <tr style=\"text-align: right;\">\n",
       "      <th></th>\n",
       "      <th>class</th>\n",
       "      <th>movieId</th>\n",
       "      <th>rating</th>\n",
       "      <th>title</th>\n",
       "      <th>original_language</th>\n",
       "      <th>poster_path_full</th>\n",
       "      <th>release_date</th>\n",
       "    </tr>\n",
       "  </thead>\n",
       "  <tbody>\n",
       "    <tr>\n",
       "      <th>0</th>\n",
       "      <td>10</td>\n",
       "      <td>862.0</td>\n",
       "      <td>7.684269</td>\n",
       "      <td>Toy Story</td>\n",
       "      <td>en</td>\n",
       "      <td>http://image.tmdb.org/t/p/w185_and_h278_bestv2...</td>\n",
       "      <td>1995-10-30</td>\n",
       "    </tr>\n",
       "    <tr>\n",
       "      <th>1</th>\n",
       "      <td>13</td>\n",
       "      <td>8844.0</td>\n",
       "      <td>6.876419</td>\n",
       "      <td>Jumanji</td>\n",
       "      <td>en</td>\n",
       "      <td>http://image.tmdb.org/t/p/w185_and_h278_bestv2...</td>\n",
       "      <td>1995-12-15</td>\n",
       "    </tr>\n",
       "    <tr>\n",
       "      <th>2</th>\n",
       "      <td>2</td>\n",
       "      <td>15602.0</td>\n",
       "      <td>6.158197</td>\n",
       "      <td>Grumpier Old Men</td>\n",
       "      <td>en</td>\n",
       "      <td>http://image.tmdb.org/t/p/w185_and_h278_bestv2...</td>\n",
       "      <td>1995-12-22</td>\n",
       "    </tr>\n",
       "    <tr>\n",
       "      <th>3</th>\n",
       "      <td>11</td>\n",
       "      <td>31357.0</td>\n",
       "      <td>5.674989</td>\n",
       "      <td>Waiting to Exhale</td>\n",
       "      <td>en</td>\n",
       "      <td>http://image.tmdb.org/t/p/w185_and_h278_bestv2...</td>\n",
       "      <td>1995-12-22</td>\n",
       "    </tr>\n",
       "    <tr>\n",
       "      <th>4</th>\n",
       "      <td>2</td>\n",
       "      <td>11862.0</td>\n",
       "      <td>5.624637</td>\n",
       "      <td>Father of the Bride Part II</td>\n",
       "      <td>en</td>\n",
       "      <td>http://image.tmdb.org/t/p/w185_and_h278_bestv2...</td>\n",
       "      <td>1995-02-10</td>\n",
       "    </tr>\n",
       "  </tbody>\n",
       "</table>\n",
       "</div>"
      ],
      "text/plain": [
       "   class  movieId    rating                        title original_language  \\\n",
       "0     10    862.0  7.684269                    Toy Story                en   \n",
       "1     13   8844.0  6.876419                      Jumanji                en   \n",
       "2      2  15602.0  6.158197             Grumpier Old Men                en   \n",
       "3     11  31357.0  5.674989            Waiting to Exhale                en   \n",
       "4      2  11862.0  5.624637  Father of the Bride Part II                en   \n",
       "\n",
       "                                    poster_path_full release_date  \n",
       "0  http://image.tmdb.org/t/p/w185_and_h278_bestv2...   1995-10-30  \n",
       "1  http://image.tmdb.org/t/p/w185_and_h278_bestv2...   1995-12-15  \n",
       "2  http://image.tmdb.org/t/p/w185_and_h278_bestv2...   1995-12-22  \n",
       "3  http://image.tmdb.org/t/p/w185_and_h278_bestv2...   1995-12-22  \n",
       "4  http://image.tmdb.org/t/p/w185_and_h278_bestv2...   1995-02-10  "
      ]
     },
     "execution_count": 76,
     "metadata": {},
     "output_type": "execute_result"
    }
   ],
   "source": [
    "df_final.head()"
   ]
  },
  {
   "cell_type": "code",
   "execution_count": 77,
   "metadata": {},
   "outputs": [],
   "source": [
    "df_final.to_csv(\"lookup.csv\")"
   ]
  }
 ],
 "metadata": {
  "kernelspec": {
   "display_name": "Python [default]",
   "language": "python",
   "name": "python3"
  },
  "language_info": {
   "codemirror_mode": {
    "name": "ipython",
    "version": 3
   },
   "file_extension": ".py",
   "mimetype": "text/x-python",
   "name": "python",
   "nbconvert_exporter": "python",
   "pygments_lexer": "ipython3",
   "version": "3.6.4"
  }
 },
 "nbformat": 4,
 "nbformat_minor": 2
}
